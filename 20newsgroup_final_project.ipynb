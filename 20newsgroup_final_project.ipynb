{
 "cells": [
  {
   "cell_type": "markdown",
   "id": "82f766f1",
   "metadata": {},
   "source": [
    "# Data impoting and spliting"
   ]
  },
  {
   "cell_type": "code",
   "execution_count": 1,
   "id": "d6b46b2d",
   "metadata": {},
   "outputs": [],
   "source": [
    "import numpy as np\n",
    "import pandas as pd\n",
    "from sklearn.datasets import fetch_20newsgroups"
   ]
  },
  {
   "cell_type": "code",
   "execution_count": 2,
   "id": "357334b3",
   "metadata": {},
   "outputs": [],
   "source": [
    "strain=['comp.graphics','rec.autos','rec.motorcycles', 'rec.sport.hockey', 'sci.space','soc.religion.christian']\n",
    "stest=['comp.graphics','rec.autos','rec.motorcycles', 'rec.sport.hockey', 'sci.space','soc.religion.christian']"
   ]
  },
  {
   "cell_type": "code",
   "execution_count": 3,
   "id": "3577bbe1",
   "metadata": {},
   "outputs": [],
   "source": [
    "\n",
    "train=fetch_20newsgroups(subset='train',categories=strain)\n",
    "test=fetch_20newsgroups(subset='test',categories=stest)"
   ]
  },
  {
   "cell_type": "code",
   "execution_count": 4,
   "id": "41209b22",
   "metadata": {},
   "outputs": [],
   "source": [
    "xtrain,xtest,ytrain,ytest=np.array(train.data),np.array(test.data),np.array(train.target),np.array(test.target)"
   ]
  },
  {
   "cell_type": "code",
   "execution_count": 5,
   "id": "29cf11f8",
   "metadata": {},
   "outputs": [
    {
     "name": "stdout",
     "output_type": "stream",
     "text": [
      "(3568,) (3568,) (2374,) (2374,)\n"
     ]
    }
   ],
   "source": [
    "print(xtrain.shape,ytrain.shape,xtest.shape,ytest.shape)"
   ]
  },
  {
   "cell_type": "code",
   "execution_count": 6,
   "id": "3830341a",
   "metadata": {},
   "outputs": [],
   "source": [
    "d=pd.DataFrame(xtrain,columns=['News'])"
   ]
  },
  {
   "cell_type": "code",
   "execution_count": 7,
   "id": "85698a4c",
   "metadata": {},
   "outputs": [
    {
     "data": {
      "text/plain": [
       "(3568, 1)"
      ]
     },
     "execution_count": 7,
     "metadata": {},
     "output_type": "execute_result"
    }
   ],
   "source": [
    "d.shape"
   ]
  },
  {
   "cell_type": "code",
   "execution_count": 8,
   "id": "658436cf",
   "metadata": {},
   "outputs": [],
   "source": [
    "d1=pd.DataFrame(ytrain,columns=['target'])"
   ]
  },
  {
   "cell_type": "code",
   "execution_count": 9,
   "id": "1c2fca04",
   "metadata": {},
   "outputs": [
    {
     "data": {
      "text/plain": [
       "(3568, 1)"
      ]
     },
     "execution_count": 9,
     "metadata": {},
     "output_type": "execute_result"
    }
   ],
   "source": [
    "d1.shape"
   ]
  },
  {
   "cell_type": "code",
   "execution_count": 10,
   "id": "585fe104",
   "metadata": {},
   "outputs": [],
   "source": [
    "df=pd.concat([d,d1],axis=1)"
   ]
  },
  {
   "cell_type": "code",
   "execution_count": 11,
   "id": "0caea3fc",
   "metadata": {},
   "outputs": [
    {
     "data": {
      "text/html": [
       "<div>\n",
       "<style scoped>\n",
       "    .dataframe tbody tr th:only-of-type {\n",
       "        vertical-align: middle;\n",
       "    }\n",
       "\n",
       "    .dataframe tbody tr th {\n",
       "        vertical-align: top;\n",
       "    }\n",
       "\n",
       "    .dataframe thead th {\n",
       "        text-align: right;\n",
       "    }\n",
       "</style>\n",
       "<table border=\"1\" class=\"dataframe\">\n",
       "  <thead>\n",
       "    <tr style=\"text-align: right;\">\n",
       "      <th></th>\n",
       "      <th>News</th>\n",
       "      <th>target</th>\n",
       "    </tr>\n",
       "  </thead>\n",
       "  <tbody>\n",
       "    <tr>\n",
       "      <th>0</th>\n",
       "      <td>From: scs8@cunixb.cc.columbia.edu (Sebastian C...</td>\n",
       "      <td>2</td>\n",
       "    </tr>\n",
       "    <tr>\n",
       "      <th>1</th>\n",
       "      <td>From: dannyb@panix.com (Daniel Burstein)\\nSubj...</td>\n",
       "      <td>4</td>\n",
       "    </tr>\n",
       "    <tr>\n",
       "      <th>2</th>\n",
       "      <td>Subject: Re: Smiths birthday goal was LEAFS GO...</td>\n",
       "      <td>3</td>\n",
       "    </tr>\n",
       "    <tr>\n",
       "      <th>3</th>\n",
       "      <td>From: nsmca@aurora.alaska.edu\\nSubject: Re: Wh...</td>\n",
       "      <td>4</td>\n",
       "    </tr>\n",
       "    <tr>\n",
       "      <th>4</th>\n",
       "      <td>From: sjp@hpuerca.atl.hp.com (Steve Phillips)\\...</td>\n",
       "      <td>1</td>\n",
       "    </tr>\n",
       "    <tr>\n",
       "      <th>5</th>\n",
       "      <td>From: robert@cpuserver.acsc.com (Robert Grant)...</td>\n",
       "      <td>0</td>\n",
       "    </tr>\n",
       "    <tr>\n",
       "      <th>6</th>\n",
       "      <td>From: moseley@u.washington.edu (Steve L. Mosel...</td>\n",
       "      <td>2</td>\n",
       "    </tr>\n",
       "    <tr>\n",
       "      <th>7</th>\n",
       "      <td>From: tbrent@florin.ecn.purdue.edu (Timothy J ...</td>\n",
       "      <td>5</td>\n",
       "    </tr>\n",
       "    <tr>\n",
       "      <th>8</th>\n",
       "      <td>From: keith@hydra.unm.edu ()\\nSubject: Where c...</td>\n",
       "      <td>2</td>\n",
       "    </tr>\n",
       "    <tr>\n",
       "      <th>9</th>\n",
       "      <td>Subject: Re: JETS FANS!  Hrivnak or Tabaracci?...</td>\n",
       "      <td>3</td>\n",
       "    </tr>\n",
       "    <tr>\n",
       "      <th>10</th>\n",
       "      <td>From: rgc3679@bcstec.ca.boeing.com (Robert G. ...</td>\n",
       "      <td>0</td>\n",
       "    </tr>\n",
       "    <tr>\n",
       "      <th>11</th>\n",
       "      <td>From: leech@cs.unc.edu (Jon Leech)\\nSubject: S...</td>\n",
       "      <td>4</td>\n",
       "    </tr>\n",
       "    <tr>\n",
       "      <th>12</th>\n",
       "      <td>From: dgempey@ucscb.UCSC.EDU (David Gordon Emp...</td>\n",
       "      <td>4</td>\n",
       "    </tr>\n",
       "    <tr>\n",
       "      <th>13</th>\n",
       "      <td>From: wbdst+@pitt.edu (William B Dwinnell)\\nSu...</td>\n",
       "      <td>0</td>\n",
       "    </tr>\n",
       "    <tr>\n",
       "      <th>14</th>\n",
       "      <td>From: Kurt Godden &lt;godden@gmr.com&gt;\\nSubject: G...</td>\n",
       "      <td>1</td>\n",
       "    </tr>\n",
       "    <tr>\n",
       "      <th>15</th>\n",
       "      <td>From: bradw@Newbridge.COM (Brad Warkentin)\\nSu...</td>\n",
       "      <td>2</td>\n",
       "    </tr>\n",
       "    <tr>\n",
       "      <th>16</th>\n",
       "      <td>From: gdoherty@us.oracle.com (Greg Doherty)\\nS...</td>\n",
       "      <td>2</td>\n",
       "    </tr>\n",
       "    <tr>\n",
       "      <th>17</th>\n",
       "      <td>From: (Eric Youngblood)\\nSubject: Re: Old Corv...</td>\n",
       "      <td>1</td>\n",
       "    </tr>\n",
       "    <tr>\n",
       "      <th>18</th>\n",
       "      <td>From: lmann@jjmhome.UUCP (Laurie Mann)\\nSubjec...</td>\n",
       "      <td>1</td>\n",
       "    </tr>\n",
       "    <tr>\n",
       "      <th>19</th>\n",
       "      <td>From: kuryakin@bcstec.ca.boeing.com (Rick Pave...</td>\n",
       "      <td>0</td>\n",
       "    </tr>\n",
       "  </tbody>\n",
       "</table>\n",
       "</div>"
      ],
      "text/plain": [
       "                                                 News  target\n",
       "0   From: scs8@cunixb.cc.columbia.edu (Sebastian C...       2\n",
       "1   From: dannyb@panix.com (Daniel Burstein)\\nSubj...       4\n",
       "2   Subject: Re: Smiths birthday goal was LEAFS GO...       3\n",
       "3   From: nsmca@aurora.alaska.edu\\nSubject: Re: Wh...       4\n",
       "4   From: sjp@hpuerca.atl.hp.com (Steve Phillips)\\...       1\n",
       "5   From: robert@cpuserver.acsc.com (Robert Grant)...       0\n",
       "6   From: moseley@u.washington.edu (Steve L. Mosel...       2\n",
       "7   From: tbrent@florin.ecn.purdue.edu (Timothy J ...       5\n",
       "8   From: keith@hydra.unm.edu ()\\nSubject: Where c...       2\n",
       "9   Subject: Re: JETS FANS!  Hrivnak or Tabaracci?...       3\n",
       "10  From: rgc3679@bcstec.ca.boeing.com (Robert G. ...       0\n",
       "11  From: leech@cs.unc.edu (Jon Leech)\\nSubject: S...       4\n",
       "12  From: dgempey@ucscb.UCSC.EDU (David Gordon Emp...       4\n",
       "13  From: wbdst+@pitt.edu (William B Dwinnell)\\nSu...       0\n",
       "14  From: Kurt Godden <godden@gmr.com>\\nSubject: G...       1\n",
       "15  From: bradw@Newbridge.COM (Brad Warkentin)\\nSu...       2\n",
       "16  From: gdoherty@us.oracle.com (Greg Doherty)\\nS...       2\n",
       "17  From: (Eric Youngblood)\\nSubject: Re: Old Corv...       1\n",
       "18  From: lmann@jjmhome.UUCP (Laurie Mann)\\nSubjec...       1\n",
       "19  From: kuryakin@bcstec.ca.boeing.com (Rick Pave...       0"
      ]
     },
     "execution_count": 11,
     "metadata": {},
     "output_type": "execute_result"
    }
   ],
   "source": [
    "df.head(20)"
   ]
  },
  {
   "cell_type": "code",
   "execution_count": 12,
   "id": "72490cb5",
   "metadata": {},
   "outputs": [],
   "source": [
    "#df['target']=[train.target_names[i] for i in df.target]"
   ]
  },
  {
   "cell_type": "markdown",
   "id": "57c36d77",
   "metadata": {},
   "source": [
    "# cleaning data"
   ]
  },
  {
   "cell_type": "code",
   "execution_count": 13,
   "id": "8447d455",
   "metadata": {},
   "outputs": [],
   "source": [
    "import re"
   ]
  },
  {
   "cell_type": "code",
   "execution_count": 14,
   "id": "713eb33f",
   "metadata": {},
   "outputs": [],
   "source": [
    "def clean(x):\n",
    "    s=re.sub('<.*?>',' ',x)\n",
    "    s=re.sub('[^A-Za-z]',' ',s)\n",
    "    s=re.sub('\\s+',' ',s)\n",
    "    s=s.strip()\n",
    "    return s.lower()"
   ]
  },
  {
   "cell_type": "code",
   "execution_count": 15,
   "id": "d2a7c40b",
   "metadata": {},
   "outputs": [],
   "source": [
    "df['News']=df.News.apply(clean)"
   ]
  },
  {
   "cell_type": "code",
   "execution_count": 16,
   "id": "6f0fa0d6",
   "metadata": {},
   "outputs": [
    {
     "data": {
      "text/html": [
       "<div>\n",
       "<style scoped>\n",
       "    .dataframe tbody tr th:only-of-type {\n",
       "        vertical-align: middle;\n",
       "    }\n",
       "\n",
       "    .dataframe tbody tr th {\n",
       "        vertical-align: top;\n",
       "    }\n",
       "\n",
       "    .dataframe thead th {\n",
       "        text-align: right;\n",
       "    }\n",
       "</style>\n",
       "<table border=\"1\" class=\"dataframe\">\n",
       "  <thead>\n",
       "    <tr style=\"text-align: right;\">\n",
       "      <th></th>\n",
       "      <th>News</th>\n",
       "      <th>target</th>\n",
       "    </tr>\n",
       "  </thead>\n",
       "  <tbody>\n",
       "    <tr>\n",
       "      <th>0</th>\n",
       "      <td>from scs cunixb cc columbia edu sebastian c se...</td>\n",
       "      <td>2</td>\n",
       "    </tr>\n",
       "    <tr>\n",
       "      <th>1</th>\n",
       "      <td>from dannyb panix com daniel burstein subject ...</td>\n",
       "      <td>4</td>\n",
       "    </tr>\n",
       "    <tr>\n",
       "      <th>2</th>\n",
       "      <td>subject re smiths birthday goal was leafs go a...</td>\n",
       "      <td>3</td>\n",
       "    </tr>\n",
       "    <tr>\n",
       "      <th>3</th>\n",
       "      <td>from nsmca aurora alaska edu subject re why no...</td>\n",
       "      <td>4</td>\n",
       "    </tr>\n",
       "    <tr>\n",
       "      <th>4</th>\n",
       "      <td>from sjp hpuerca atl hp com steve phillips sub...</td>\n",
       "      <td>1</td>\n",
       "    </tr>\n",
       "  </tbody>\n",
       "</table>\n",
       "</div>"
      ],
      "text/plain": [
       "                                                News  target\n",
       "0  from scs cunixb cc columbia edu sebastian c se...       2\n",
       "1  from dannyb panix com daniel burstein subject ...       4\n",
       "2  subject re smiths birthday goal was leafs go a...       3\n",
       "3  from nsmca aurora alaska edu subject re why no...       4\n",
       "4  from sjp hpuerca atl hp com steve phillips sub...       1"
      ]
     },
     "execution_count": 16,
     "metadata": {},
     "output_type": "execute_result"
    }
   ],
   "source": [
    "df.head()"
   ]
  },
  {
   "cell_type": "code",
   "execution_count": 17,
   "id": "ac5a872a",
   "metadata": {},
   "outputs": [],
   "source": [
    "from nltk.corpus import stopwords"
   ]
  },
  {
   "cell_type": "code",
   "execution_count": 18,
   "id": "69b96f4f",
   "metadata": {},
   "outputs": [],
   "source": [
    "stop=stopwords.words('english')"
   ]
  },
  {
   "cell_type": "code",
   "execution_count": 19,
   "id": "cafbf714",
   "metadata": {},
   "outputs": [
    {
     "name": "stdout",
     "output_type": "stream",
     "text": [
      "['i', 'me', 'my', 'myself', 'we', 'our', 'ours', 'ourselves', 'you', \"you're\", \"you've\", \"you'll\", \"you'd\", 'your', 'yours', 'yourself', 'yourselves', 'he', 'him', 'his', 'himself', 'she', \"she's\", 'her', 'hers', 'herself', 'it', \"it's\", 'its', 'itself', 'they', 'them', 'their', 'theirs', 'themselves', 'what', 'which', 'who', 'whom', 'this', 'that', \"that'll\", 'these', 'those', 'am', 'is', 'are', 'was', 'were', 'be', 'been', 'being', 'have', 'has', 'had', 'having', 'do', 'does', 'did', 'doing', 'a', 'an', 'the', 'and', 'but', 'if', 'or', 'because', 'as', 'until', 'while', 'of', 'at', 'by', 'for', 'with', 'about', 'against', 'between', 'into', 'through', 'during', 'before', 'after', 'above', 'below', 'to', 'from', 'up', 'down', 'in', 'out', 'on', 'off', 'over', 'under', 'again', 'further', 'then', 'once', 'here', 'there', 'when', 'where', 'why', 'how', 'all', 'any', 'both', 'each', 'few', 'more', 'most', 'other', 'some', 'such', 'no', 'nor', 'not', 'only', 'own', 'same', 'so', 'than', 'too', 'very', 's', 't', 'can', 'will', 'just', 'don', \"don't\", 'should', \"should've\", 'now', 'd', 'll', 'm', 'o', 're', 've', 'y', 'ain', 'aren', \"aren't\", 'couldn', \"couldn't\", 'didn', \"didn't\", 'doesn', \"doesn't\", 'hadn', \"hadn't\", 'hasn', \"hasn't\", 'haven', \"haven't\", 'isn', \"isn't\", 'ma', 'mightn', \"mightn't\", 'mustn', \"mustn't\", 'needn', \"needn't\", 'shan', \"shan't\", 'shouldn', \"shouldn't\", 'wasn', \"wasn't\", 'weren', \"weren't\", 'won', \"won't\", 'wouldn', \"wouldn't\"]\n"
     ]
    }
   ],
   "source": [
    "print(stop)"
   ]
  },
  {
   "cell_type": "code",
   "execution_count": 20,
   "id": "d5df29c2",
   "metadata": {},
   "outputs": [],
   "source": [
    "X=df.News.values\n",
    "Y=df.target.values"
   ]
  },
  {
   "cell_type": "code",
   "execution_count": 21,
   "id": "ea04a4b5",
   "metadata": {},
   "outputs": [
    {
     "data": {
      "text/plain": [
       "(3568,)"
      ]
     },
     "execution_count": 21,
     "metadata": {},
     "output_type": "execute_result"
    }
   ],
   "source": [
    "X.shape"
   ]
  },
  {
   "cell_type": "code",
   "execution_count": 22,
   "id": "3ef9201c",
   "metadata": {},
   "outputs": [
    {
     "data": {
      "text/plain": [
       "(3568,)"
      ]
     },
     "execution_count": 22,
     "metadata": {},
     "output_type": "execute_result"
    }
   ],
   "source": [
    "Y.shape"
   ]
  },
  {
   "cell_type": "markdown",
   "id": "0e02cbd9",
   "metadata": {},
   "source": [
    "# countvectorizer"
   ]
  },
  {
   "cell_type": "code",
   "execution_count": 23,
   "id": "ae2242b2",
   "metadata": {},
   "outputs": [],
   "source": [
    "from sklearn.feature_extraction.text import CountVectorizer"
   ]
  },
  {
   "cell_type": "code",
   "execution_count": 24,
   "id": "c0d7aa91",
   "metadata": {},
   "outputs": [],
   "source": [
    "cvt=CountVectorizer(stop_words=stop)"
   ]
  },
  {
   "cell_type": "code",
   "execution_count": 25,
   "id": "addb9ade",
   "metadata": {},
   "outputs": [],
   "source": [
    "cv_train=cvt.fit_transform(X)"
   ]
  },
  {
   "cell_type": "code",
   "execution_count": 26,
   "id": "d33f6392",
   "metadata": {},
   "outputs": [
    {
     "data": {
      "text/plain": [
       "(3568, 37562)"
      ]
     },
     "execution_count": 26,
     "metadata": {},
     "output_type": "execute_result"
    }
   ],
   "source": [
    "cv_train.shape"
   ]
  },
  {
   "cell_type": "code",
   "execution_count": 27,
   "id": "b7d5319b",
   "metadata": {},
   "outputs": [],
   "source": [
    "cv_test=cvt.transform(xtest)"
   ]
  },
  {
   "cell_type": "markdown",
   "id": "8403a0e9",
   "metadata": {},
   "source": [
    "# Logistic Regression"
   ]
  },
  {
   "cell_type": "code",
   "execution_count": 28,
   "id": "dbbb926e",
   "metadata": {},
   "outputs": [],
   "source": [
    "from sklearn.linear_model import LogisticRegression"
   ]
  },
  {
   "cell_type": "code",
   "execution_count": 29,
   "id": "9c0b4698",
   "metadata": {},
   "outputs": [],
   "source": [
    "log=LogisticRegression()"
   ]
  },
  {
   "cell_type": "code",
   "execution_count": 30,
   "id": "f68b7e3b",
   "metadata": {},
   "outputs": [
    {
     "data": {
      "text/plain": [
       "LogisticRegression()"
      ]
     },
     "execution_count": 30,
     "metadata": {},
     "output_type": "execute_result"
    }
   ],
   "source": [
    "log.fit(cv_train,Y)"
   ]
  },
  {
   "cell_type": "code",
   "execution_count": 31,
   "id": "976dda00",
   "metadata": {},
   "outputs": [],
   "source": [
    "pred=log.predict(cv_train)"
   ]
  },
  {
   "cell_type": "code",
   "execution_count": 32,
   "id": "cd1757a7",
   "metadata": {},
   "outputs": [
    {
     "data": {
      "text/plain": [
       "(3568,)"
      ]
     },
     "execution_count": 32,
     "metadata": {},
     "output_type": "execute_result"
    }
   ],
   "source": [
    "pred.shape"
   ]
  },
  {
   "cell_type": "code",
   "execution_count": 33,
   "id": "71b6cc79",
   "metadata": {},
   "outputs": [],
   "source": [
    "from sklearn.metrics import accuracy_score"
   ]
  },
  {
   "cell_type": "code",
   "execution_count": 34,
   "id": "eb86fb55",
   "metadata": {},
   "outputs": [
    {
     "data": {
      "text/plain": [
       "0.9997197309417041"
      ]
     },
     "execution_count": 34,
     "metadata": {},
     "output_type": "execute_result"
    }
   ],
   "source": [
    "train_scores=accuracy_score(Y,pred)\n",
    "train_scores"
   ]
  },
  {
   "cell_type": "code",
   "execution_count": 35,
   "id": "4b8a7da0",
   "metadata": {},
   "outputs": [],
   "source": [
    "pred1=log.predict(cv_test)"
   ]
  },
  {
   "cell_type": "code",
   "execution_count": 36,
   "id": "3dbd04d5",
   "metadata": {},
   "outputs": [
    {
     "data": {
      "text/plain": [
       "0.9486099410278012"
      ]
     },
     "execution_count": 36,
     "metadata": {},
     "output_type": "execute_result"
    }
   ],
   "source": [
    "test_scores=accuracy_score(ytest,pred1)\n",
    "test_scores"
   ]
  },
  {
   "cell_type": "code",
   "execution_count": 37,
   "id": "305c6ae6",
   "metadata": {},
   "outputs": [
    {
     "data": {
      "text/plain": [
       "['comp.graphics',\n",
       " 'rec.autos',\n",
       " 'rec.motorcycles',\n",
       " 'rec.sport.hockey',\n",
       " 'sci.space',\n",
       " 'soc.religion.christian']"
      ]
     },
     "execution_count": 37,
     "metadata": {},
     "output_type": "execute_result"
    }
   ],
   "source": [
    "train.target_names"
   ]
  },
  {
   "cell_type": "markdown",
   "id": "c79d2b38",
   "metadata": {},
   "source": [
    "# some external testing news samples"
   ]
  },
  {
   "cell_type": "code",
   "execution_count": 38,
   "id": "5afea486",
   "metadata": {},
   "outputs": [],
   "source": [
    "test=['The Indian hockey teams are unlikely to participate in next years Commonwealth Games in Birmingham to ensure that they hit peak form during the Asian Games, which is a qualifier for the 2024 Paris Olympics, IOA chief Narinder Batra said on Friday']"
   ]
  },
  {
   "cell_type": "code",
   "execution_count": 39,
   "id": "117edb02",
   "metadata": {},
   "outputs": [],
   "source": [
    "cleaned_data=[]\n",
    "\n",
    "for i in test:           #Hockey news https://sports.ndtv.com/hockey/indian-hockey-teams-unlikely-to-compete-in-birmingham-cwg-ioa-chief-2528498\n",
    "    t = clean(i)     \n",
    "    cleaned_data.append(t)"
   ]
  },
  {
   "cell_type": "code",
   "execution_count": 40,
   "id": "10b21c8c",
   "metadata": {},
   "outputs": [
    {
     "data": {
      "text/plain": [
       "['the indian hockey teams are unlikely to participate in next years commonwealth games in birmingham to ensure that they hit peak form during the asian games which is a qualifier for the paris olympics ioa chief narinder batra said on friday']"
      ]
     },
     "execution_count": 40,
     "metadata": {},
     "output_type": "execute_result"
    }
   ],
   "source": [
    "cleaned_data"
   ]
  },
  {
   "cell_type": "code",
   "execution_count": 41,
   "id": "603c75d1",
   "metadata": {},
   "outputs": [],
   "source": [
    "t1=cvt.transform(cleaned_data)"
   ]
  },
  {
   "cell_type": "code",
   "execution_count": 42,
   "id": "41dc3c44",
   "metadata": {},
   "outputs": [
    {
     "data": {
      "text/plain": [
       "array([3], dtype=int64)"
      ]
     },
     "execution_count": 42,
     "metadata": {},
     "output_type": "execute_result"
    }
   ],
   "source": [
    "log.predict(t1)"
   ]
  },
  {
   "cell_type": "code",
   "execution_count": 43,
   "id": "e10d188e",
   "metadata": {},
   "outputs": [
    {
     "data": {
      "text/plain": [
       "array([4], dtype=int64)"
      ]
     },
     "execution_count": 43,
     "metadata": {},
     "output_type": "execute_result"
    }
   ],
   "source": [
    "test=['Originally launched as the International Sun-Earth Explorer-3 in 1978, ICE was one of three spacecraft built for the International Sun-Earth Explorer (ISEE) program, a joint effort by NASA']\n",
    "cleaned_data=[]\n",
    "\n",
    "for i in test:\n",
    "    t = clean(i)             #sci.space news https://www.space.com/39251-on-this-day-in-space.html\n",
    "    cleaned_data.append(t)\n",
    "t1=cvt.transform(cleaned_data)\n",
    "log.predict(t1)"
   ]
  },
  {
   "cell_type": "code",
   "execution_count": 44,
   "id": "a6570ffb",
   "metadata": {},
   "outputs": [
    {
     "data": {
      "text/plain": [
       "array([0], dtype=int64)"
      ]
     },
     "execution_count": 44,
     "metadata": {},
     "output_type": "execute_result"
    }
   ],
   "source": [
    "test1=['Gaming graphics card allows faster, more precise control of fusion energy experiments']\n",
    "cleaned_data1=[]\n",
    "for i in test1:\n",
    "    t=clean(i)\n",
    "    cleaned_data1.append(t)      # computer graphics news https://www.sciencedaily.com/releases/2021/07/210722131342.htm\n",
    "t2=cvt.transform(cleaned_data1)\n",
    "log.predict(t2)"
   ]
  },
  {
   "cell_type": "markdown",
   "id": "48869a58",
   "metadata": {},
   "source": [
    "# SVM & SVC"
   ]
  },
  {
   "cell_type": "code",
   "execution_count": 45,
   "id": "87834fcc",
   "metadata": {},
   "outputs": [],
   "source": [
    "from sklearn.svm import SVC"
   ]
  },
  {
   "cell_type": "code",
   "execution_count": 46,
   "id": "9e41810f",
   "metadata": {},
   "outputs": [],
   "source": [
    "clf=SVC(kernel='rbf',gamma=0.00193)"
   ]
  },
  {
   "cell_type": "code",
   "execution_count": 47,
   "id": "8282f4b5",
   "metadata": {},
   "outputs": [
    {
     "data": {
      "text/plain": [
       "SVC(gamma=0.00193)"
      ]
     },
     "execution_count": 47,
     "metadata": {},
     "output_type": "execute_result"
    }
   ],
   "source": [
    "clf.fit(cv_train,Y)"
   ]
  },
  {
   "cell_type": "code",
   "execution_count": 48,
   "id": "9817a9d3",
   "metadata": {},
   "outputs": [
    {
     "data": {
      "text/plain": [
       "0.8917438921651222"
      ]
     },
     "execution_count": 48,
     "metadata": {},
     "output_type": "execute_result"
    }
   ],
   "source": [
    "clf.score(cv_test,ytest)"
   ]
  },
  {
   "cell_type": "code",
   "execution_count": 49,
   "id": "f36a65a8",
   "metadata": {},
   "outputs": [
    {
     "data": {
      "text/plain": [
       "0.9702914798206278"
      ]
     },
     "execution_count": 49,
     "metadata": {},
     "output_type": "execute_result"
    }
   ],
   "source": [
    "clf.score(cv_train,Y)"
   ]
  },
  {
   "cell_type": "code",
   "execution_count": 50,
   "id": "5c062581",
   "metadata": {},
   "outputs": [
    {
     "data": {
      "text/plain": [
       "0.8917438921651222"
      ]
     },
     "execution_count": 50,
     "metadata": {},
     "output_type": "execute_result"
    }
   ],
   "source": [
    "accuracy_score(ytest,clf.predict(cv_test))"
   ]
  },
  {
   "cell_type": "code",
   "execution_count": null,
   "id": "2c2c3961",
   "metadata": {},
   "outputs": [],
   "source": []
  }
 ],
 "metadata": {
  "kernelspec": {
   "display_name": "Python 3",
   "language": "python",
   "name": "python3"
  },
  "language_info": {
   "codemirror_mode": {
    "name": "ipython",
    "version": 3
   },
   "file_extension": ".py",
   "mimetype": "text/x-python",
   "name": "python",
   "nbconvert_exporter": "python",
   "pygments_lexer": "ipython3",
   "version": "3.8.8"
  }
 },
 "nbformat": 4,
 "nbformat_minor": 5
}
